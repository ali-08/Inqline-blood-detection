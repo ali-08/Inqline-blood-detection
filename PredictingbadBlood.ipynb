{
 "cells": [
  {
   "cell_type": "code",
   "execution_count": 1,
   "metadata": {},
   "outputs": [],
   "source": [
    "import numpy as np\n",
    "import pandas as pd\n",
    "import seaborn as sns\n",
    "import matplotlib as mp\n",
    "import matplotlib.pyplot as plt\n",
    "import statistics as st"
   ]
  },
  {
   "cell_type": "code",
   "execution_count": 2,
   "metadata": {},
   "outputs": [],
   "source": [
    "df = pd.read_excel(\"dataset/badblood3.xlsx\")"
   ]
  },
  {
   "cell_type": "markdown",
   "metadata": {},
   "source": [
    "# Visualisations"
   ]
  },
  {
   "cell_type": "code",
   "execution_count": 28,
   "metadata": {},
   "outputs": [
    {
     "data": {
      "image/png": "[encoded data removed]",
      "text/plain": [
       "<Figure size 432x288 with 1 Axes>"
      ]
     },
     "metadata": {
      "needs_background": "light"
     },
     "output_type": "display_data"
    }
   ],
   "source": [
    "array = [i for i in range(0, 59)]\n",
    "import matplotlib.pyplot as plt\n",
    "y=df.loc[:,'bspm']\n",
    "plt.plot(array,y)\n",
    "#print(df['Y'])\n",
    "plt.xlabel(\"Y\")\n",
    "plt.ylabel('X')\n",
    "plt.show()"
   ]
  },
  {
   "cell_type": "code",
   "execution_count": 4,
   "metadata": {},
   "outputs": [
    {
     "data": {
      "text/plain": [
       "Index([          'month',            'bspm',          'Trend1',\n",
       "                'Trend2',          'Trend3',      'Unnamed: 5',\n",
       "            'Unnamed: 6',      'Unnamed: 7',      'Unnamed: 8',\n",
       "       9.402339761808145, 22.21757575757576, 9.345454545454546],\n",
       "      dtype='object')"
      ]
     },
     "execution_count": 4,
     "metadata": {},
     "output_type": "execute_result"
    }
   ],
   "source": [
    "df.columns"
   ]
  },
  {
   "cell_type": "code",
   "execution_count": 5,
   "metadata": {},
   "outputs": [],
   "source": [
    "length = len(df[[\"bspm\"]])"
   ]
  },
  {
   "cell_type": "code",
   "execution_count": 6,
   "metadata": {},
   "outputs": [],
   "source": [
    "# st.stdev(df.loc[0:3, \"month\"])"
   ]
  },
  {
   "cell_type": "markdown",
   "metadata": {},
   "source": [
    "# Trend1"
   ]
  },
  {
   "cell_type": "markdown",
   "metadata": {},
   "source": [
    "### Number of bad samples increase between Feb and July\n",
    "### Pattern is detected\n",
    "### Exponential weighted moving avg is used along with variance of last 3 months to calc new value"
   ]
  },
  {
   "cell_type": "code",
   "execution_count": 7,
   "metadata": {},
   "outputs": [],
   "source": [
    "# Trend1\n",
    "for i in range(3,length-1):\n",
    "    if(df.loc[i+1, \"month\"] > 8 or df.loc[i+1, \"month\"] < 3):\n",
    "        df.loc[i, \"t1\"] = (0.6*df.loc[i,\"bspm\"] + 0.25*df.loc[i-1,\"bspm\"] + 0.1*df.loc[i-2,\"bspm\"]) - st.stdev(df.loc[i-3:i,\"bspm\"])\n",
    "    else:\n",
    "        df.loc[i, \"t1\"] = (0.6*df.loc[i,\"bspm\"] + 0.25*df.loc[i-1,\"bspm\"] + 0.1*df.loc[i-2,\"bspm\"]) + st.stdev(df.loc[i-3:i,\"bspm\"])"
   ]
  },
  {
   "cell_type": "markdown",
   "metadata": {},
   "source": [
    "All checked for correct ans"
   ]
  },
  {
   "cell_type": "code",
   "execution_count": 10,
   "metadata": {},
   "outputs": [],
   "source": [
    "# for i in range(0, 58):\n",
    "#     print(df.loc[i, \"Trend1\"], \"    \", df.loc[i, \"t1\"])"
   ]
  },
  {
   "cell_type": "markdown",
   "metadata": {},
   "source": [
    "### For Jul-Feb previous months val is squared and divided by 80\n",
    "### For Mar-Jun previous months val is squared and divided by 30\n",
    "## This is bcs it is observed that values oscillate between 30 - 80"
   ]
  },
  {
   "cell_type": "code",
   "execution_count": 11,
   "metadata": {},
   "outputs": [],
   "source": [
    "# Trend2\n",
    "for i in range(3, length-1):\n",
    "    if(df.loc[i+1, \"month\"] > 8 or df.loc[i+1, \"month\"] < 3):\n",
    "        df.loc[i, \"t2\"] = (df.loc[i, 'bspm'] ** 2) / 80\n",
    "    else:\n",
    "        df.loc[i, \"t2\"] = (df.loc[i, 'bspm'] ** 2) / 30"
   ]
  },
  {
   "cell_type": "markdown",
   "metadata": {},
   "source": [
    "All checked for correct answers"
   ]
  },
  {
   "cell_type": "code",
   "execution_count": 12,
   "metadata": {},
   "outputs": [],
   "source": [
    "# for i in range(0, 58):\n",
    "#     print(df.loc[i, \"Trend2\"], \"    \", df.loc[i, \"t2\"])"
   ]
  },
  {
   "cell_type": "markdown",
   "metadata": {},
   "source": [
    "### TRend3 is the avg of last 2 months"
   ]
  },
  {
   "cell_type": "code",
   "execution_count": 13,
   "metadata": {},
   "outputs": [],
   "source": [
    "# Trend3\n",
    "for i in range(3, length-1):\n",
    "        df.loc[i, \"t3\"] = (df.loc[i, 'bspm'] + df.loc[i-1, 'bspm']) / 2"
   ]
  },
  {
   "cell_type": "markdown",
   "metadata": {},
   "source": [
    "All checked for correct answers"
   ]
  },
  {
   "cell_type": "code",
   "execution_count": 15,
   "metadata": {},
   "outputs": [],
   "source": [
    "# for i in range(0, 58):\n",
    "#     print(df.loc[i, \"Trend3\"], \"    \", df.loc[i, \"t3\"])"
   ]
  },
  {
   "cell_type": "code",
   "execution_count": 16,
   "metadata": {},
   "outputs": [
    {
     "data": {
      "text/plain": [
       "Index([          'month',            'bspm',          'Trend1',\n",
       "                'Trend2',          'Trend3',      'Unnamed: 5',\n",
       "            'Unnamed: 6',      'Unnamed: 7',      'Unnamed: 8',\n",
       "       9.402339761808145, 22.21757575757576, 9.345454545454546,\n",
       "                    't1',              't2',              't3'],\n",
       "      dtype='object')"
      ]
     },
     "execution_count": 16,
     "metadata": {},
     "output_type": "execute_result"
    }
   ],
   "source": [
    "df.columns"
   ]
  },
  {
   "cell_type": "code",
   "execution_count": 21,
   "metadata": {},
   "outputs": [],
   "source": [
    "df1 = df.drop(['Trend1', 'Trend2', 'Trend3', 'Unnamed: 5', 'Unnamed: 6', 'Unnamed: 7',\n",
    "         'Unnamed: 8'], axis=1)"
   ]
  },
  {
   "cell_type": "code",
   "execution_count": 22,
   "metadata": {},
   "outputs": [
    {
     "data": {
      "text/html": [
       "<div>\n",
       "<style scoped>\n",
       "    .dataframe tbody tr th:only-of-type {\n",
       "        vertical-align: middle;\n",
       "    }\n",
       "\n",
       "    .dataframe tbody tr th {\n",
       "        vertical-align: top;\n",
       "    }\n",
       "\n",
       "    .dataframe thead th {\n",
       "        text-align: right;\n",
       "    }\n",
       "</style>\n",
       "<table border=\"1\" class=\"dataframe\">\n",
       "  <thead>\n",
       "    <tr style=\"text-align: right;\">\n",
       "      <th></th>\n",
       "      <th>month</th>\n",
       "      <th>bspm</th>\n",
       "      <th>9.402339761808145</th>\n",
       "      <th>22.21757575757576</th>\n",
       "      <th>9.345454545454546</th>\n",
       "      <th>t1</th>\n",
       "      <th>t2</th>\n",
       "      <th>t3</th>\n",
       "    </tr>\n",
       "  </thead>\n",
       "  <tbody>\n",
       "    <tr>\n",
       "      <th>0</th>\n",
       "      <td>7</td>\n",
       "      <td>48</td>\n",
       "      <td>NaN</td>\n",
       "      <td>NaN</td>\n",
       "      <td>NaN</td>\n",
       "      <td>NaN</td>\n",
       "      <td>NaN</td>\n",
       "      <td>NaN</td>\n",
       "    </tr>\n",
       "    <tr>\n",
       "      <th>1</th>\n",
       "      <td>8</td>\n",
       "      <td>71</td>\n",
       "      <td>NaN</td>\n",
       "      <td>NaN</td>\n",
       "      <td>NaN</td>\n",
       "      <td>NaN</td>\n",
       "      <td>NaN</td>\n",
       "      <td>NaN</td>\n",
       "    </tr>\n",
       "    <tr>\n",
       "      <th>2</th>\n",
       "      <td>9</td>\n",
       "      <td>60</td>\n",
       "      <td>NaN</td>\n",
       "      <td>NaN</td>\n",
       "      <td>NaN</td>\n",
       "      <td>NaN</td>\n",
       "      <td>NaN</td>\n",
       "      <td>NaN</td>\n",
       "    </tr>\n",
       "    <tr>\n",
       "      <th>3</th>\n",
       "      <td>10</td>\n",
       "      <td>57</td>\n",
       "      <td>NaN</td>\n",
       "      <td>NaN</td>\n",
       "      <td>NaN</td>\n",
       "      <td>46.813167</td>\n",
       "      <td>40.6125</td>\n",
       "      <td>58.5</td>\n",
       "    </tr>\n",
       "    <tr>\n",
       "      <th>4</th>\n",
       "      <td>11</td>\n",
       "      <td>51</td>\n",
       "      <td>NaN</td>\n",
       "      <td>NaN</td>\n",
       "      <td>NaN</td>\n",
       "      <td>42.468473</td>\n",
       "      <td>32.5125</td>\n",
       "      <td>54.0</td>\n",
       "    </tr>\n",
       "  </tbody>\n",
       "</table>\n",
       "</div>"
      ],
      "text/plain": [
       "   month  bspm  9.402339761808145  22.21757575757576  9.345454545454546  \\\n",
       "0      7    48                NaN                NaN                NaN   \n",
       "1      8    71                NaN                NaN                NaN   \n",
       "2      9    60                NaN                NaN                NaN   \n",
       "3     10    57                NaN                NaN                NaN   \n",
       "4     11    51                NaN                NaN                NaN   \n",
       "\n",
       "          t1       t2    t3  \n",
       "0        NaN      NaN   NaN  \n",
       "1        NaN      NaN   NaN  \n",
       "2        NaN      NaN   NaN  \n",
       "3  46.813167  40.6125  58.5  \n",
       "4  42.468473  32.5125  54.0  "
      ]
     },
     "execution_count": 22,
     "metadata": {},
     "output_type": "execute_result"
    }
   ],
   "source": [
    "df1.head()"
   ]
  },
  {
   "cell_type": "code",
   "execution_count": 23,
   "metadata": {},
   "outputs": [],
   "source": [
    "df1.drop(df1.iloc[:, 2:5], inplace = True, axis = 1) "
   ]
  },
  {
   "cell_type": "code",
   "execution_count": 24,
   "metadata": {},
   "outputs": [
    {
     "data": {
      "text/html": [
       "<div>\n",
       "<style scoped>\n",
       "    .dataframe tbody tr th:only-of-type {\n",
       "        vertical-align: middle;\n",
       "    }\n",
       "\n",
       "    .dataframe tbody tr th {\n",
       "        vertical-align: top;\n",
       "    }\n",
       "\n",
       "    .dataframe thead th {\n",
       "        text-align: right;\n",
       "    }\n",
       "</style>\n",
       "<table border=\"1\" class=\"dataframe\">\n",
       "  <thead>\n",
       "    <tr style=\"text-align: right;\">\n",
       "      <th></th>\n",
       "      <th>month</th>\n",
       "      <th>bspm</th>\n",
       "      <th>t1</th>\n",
       "      <th>t2</th>\n",
       "      <th>t3</th>\n",
       "    </tr>\n",
       "  </thead>\n",
       "  <tbody>\n",
       "    <tr>\n",
       "      <th>0</th>\n",
       "      <td>7</td>\n",
       "      <td>48</td>\n",
       "      <td>NaN</td>\n",
       "      <td>NaN</td>\n",
       "      <td>NaN</td>\n",
       "    </tr>\n",
       "    <tr>\n",
       "      <th>1</th>\n",
       "      <td>8</td>\n",
       "      <td>71</td>\n",
       "      <td>NaN</td>\n",
       "      <td>NaN</td>\n",
       "      <td>NaN</td>\n",
       "    </tr>\n",
       "    <tr>\n",
       "      <th>2</th>\n",
       "      <td>9</td>\n",
       "      <td>60</td>\n",
       "      <td>NaN</td>\n",
       "      <td>NaN</td>\n",
       "      <td>NaN</td>\n",
       "    </tr>\n",
       "    <tr>\n",
       "      <th>3</th>\n",
       "      <td>10</td>\n",
       "      <td>57</td>\n",
       "      <td>46.813167</td>\n",
       "      <td>40.6125</td>\n",
       "      <td>58.5</td>\n",
       "    </tr>\n",
       "    <tr>\n",
       "      <th>4</th>\n",
       "      <td>11</td>\n",
       "      <td>51</td>\n",
       "      <td>42.468473</td>\n",
       "      <td>32.5125</td>\n",
       "      <td>54.0</td>\n",
       "    </tr>\n",
       "  </tbody>\n",
       "</table>\n",
       "</div>"
      ],
      "text/plain": [
       "   month  bspm         t1       t2    t3\n",
       "0      7    48        NaN      NaN   NaN\n",
       "1      8    71        NaN      NaN   NaN\n",
       "2      9    60        NaN      NaN   NaN\n",
       "3     10    57  46.813167  40.6125  58.5\n",
       "4     11    51  42.468473  32.5125  54.0"
      ]
     },
     "execution_count": 24,
     "metadata": {},
     "output_type": "execute_result"
    }
   ],
   "source": [
    "df1.head()"
   ]
  },
  {
   "cell_type": "markdown",
   "metadata": {},
   "source": [
    "### Mape values for each trend"
   ]
  },
  {
   "cell_type": "code",
   "execution_count": 25,
   "metadata": {},
   "outputs": [
    {
     "name": "stdout",
     "output_type": "stream",
     "text": [
      "18.640993475589127\n",
      "45.91265763632528\n",
      "10.310092049308277\n"
     ]
    }
   ],
   "source": [
    "mapeT1 = np.mean(np.abs((df[\"t1\"] - df[\"bspm\"]) / df[\"t1\"])) * 100\n",
    "mapeT2 = np.mean(np.abs((df[\"t2\"] - df[\"bspm\"]) / df[\"t1\"])) * 100\n",
    "mapeT3 = np.mean(np.abs((df[\"t3\"] - df[\"bspm\"]) / df[\"t1\"])) * 100\n",
    "print(mapeT1)\n",
    "print(mapeT2)\n",
    "print(mapeT3)"
   ]
  },
  {
   "cell_type": "code",
   "execution_count": 26,
   "metadata": {},
   "outputs": [
    {
     "name": "stdout",
     "output_type": "stream",
     "text": [
      "81.35900652441087\n",
      "54.08734236367472\n",
      "89.68990795069172\n"
     ]
    }
   ],
   "source": [
    "print((100-mapeT1) )\n",
    "print((100-mapeT2) )\n",
    "print((100-mapeT3) )"
   ]
  },
  {
   "cell_type": "markdown",
   "metadata": {},
   "source": [
    "# Results"
   ]
  },
  {
   "cell_type": "code",
   "execution_count": 29,
   "metadata": {},
   "outputs": [
    {
     "data": {
      "image/png": "[encoded data removed]",
      "text/plain": [
       "<Figure size 432x288 with 1 Axes>"
      ]
     },
     "metadata": {
      "needs_background": "light"
     },
     "output_type": "display_data"
    }
   ],
   "source": [
    "array = [i for i in range(0, 59)]\n",
    "import matplotlib.pyplot as plt\n",
    "y=df.loc[:,'bspm']\n",
    "t3=df.loc[:,'t3']\n",
    "plt.plot(array,y)\n",
    "plt.plot(array,t3)\n",
    "#print(df['Y'])\n",
    "plt.xlabel(\"Y\")\n",
    "plt.ylabel('X')\n",
    "plt.show()"
   ]
  },
  {
   "cell_type": "code",
   "execution_count": null,
   "metadata": {},
   "outputs": [],
   "source": []
  }
 ],
 "metadata": {
  "kernelspec": {
   "display_name": "Python 3",
   "language": "python",
   "name": "python3"
  },
  "language_info": {
   "codemirror_mode": {
    "name": "ipython",
    "version": 3
   },
   "file_extension": ".py",
   "mimetype": "text/x-python",
   "name": "python",
   "nbconvert_exporter": "python",
   "pygments_lexer": "ipython3",
   "version": "3.7.1"
  }
 },
 "nbformat": 4,
 "nbformat_minor": 2
}
